{
 "cells": [
  {
   "cell_type": "markdown",
   "metadata": {},
   "source": [
    "## House Price Prediction"
   ]
  },
  {
   "cell_type": "markdown",
   "metadata": {},
   "source": [
    "#### Imports"
   ]
  },
  {
   "cell_type": "code",
   "execution_count": 3036,
   "metadata": {},
   "outputs": [],
   "source": [
    "import numpy as np\n",
    "import pandas as pd \n",
    "import seaborn as sns\n",
    "from sklearn import preprocessing\n",
    "from sklearn.model_selection import train_test_split, GridSearchCV,cross_val_score\n",
    "from sklearn.metrics import mean_squared_error, r2_score\n",
    "import matplotlib.pyplot as plt\n",
    "from sklearn.preprocessing import scale \n",
    "from sklearn import model_selection\n",
    "from sklearn.tree import DecisionTreeRegressor, DecisionTreeClassifier\n",
    "from sklearn.neighbors import KNeighborsRegressor\n",
    "from sklearn.ensemble import BaggingRegressor\n",
    "\n",
    "from warnings import filterwarnings\n",
    "filterwarnings('ignore')"
   ]
  },
  {
   "cell_type": "code",
   "execution_count": 3037,
   "metadata": {},
   "outputs": [],
   "source": [
    "train = pd.read_csv('train.csv')\n",
    "test = pd.read_csv('test.csv')"
   ]
  },
  {
   "cell_type": "code",
   "execution_count": 3038,
   "metadata": {
    "collapsed": true,
    "jupyter": {
     "outputs_hidden": true
    }
   },
   "outputs": [
    {
     "data": {
      "text/plain": "(1460, 81)"
     },
     "execution_count": 3038,
     "metadata": {},
     "output_type": "execute_result"
    }
   ],
   "source": [
    "train.shape"
   ]
  },
  {
   "cell_type": "code",
   "execution_count": 3039,
   "metadata": {
    "collapsed": true,
    "jupyter": {
     "outputs_hidden": true
    }
   },
   "outputs": [
    {
     "data": {
      "text/plain": "(1459, 80)"
     },
     "execution_count": 3039,
     "metadata": {},
     "output_type": "execute_result"
    }
   ],
   "source": [
    "test.shape"
   ]
  },
  {
   "cell_type": "markdown",
   "metadata": {},
   "source": [
    "#### In our train set there are 81 variables in different dtypes and in test there are 80 variables. The only missing variable is SalePrice as expected.\r\n",
    "#### Lets join them together to start data preperation"
   ]
  },
  {
   "cell_type": "code",
   "execution_count": 3040,
   "metadata": {},
   "outputs": [],
   "source": [
    "test[\"SalePrice\"] = None"
   ]
  },
  {
   "cell_type": "markdown",
   "metadata": {},
   "source": [
    "#### We added the sale price variable to test set with NULL values to perform join step"
   ]
  },
  {
   "cell_type": "code",
   "execution_count": 3041,
   "metadata": {},
   "outputs": [],
   "source": [
    "df = pd.concat([train,test], join = 'inner')\n"
   ]
  },
  {
   "cell_type": "code",
   "execution_count": 3042,
   "metadata": {
    "collapsed": true,
    "jupyter": {
     "outputs_hidden": true
    }
   },
   "outputs": [
    {
     "data": {
      "text/plain": "(2919, 81)"
     },
     "execution_count": 3042,
     "metadata": {},
     "output_type": "execute_result"
    }
   ],
   "source": [
    "df.shape"
   ]
  },
  {
   "cell_type": "markdown",
   "metadata": {},
   "source": [
    "#### We performed the join step as can be seen above now lets start data preperation"
   ]
  },
  {
   "cell_type": "code",
   "execution_count": 3043,
   "metadata": {},
   "outputs": [],
   "source": [
    "test[\"SalePrice\"] = None\r\n",
    "df = pd.concat([train,test], join = 'inner')"
   ]
  },
  {
   "cell_type": "markdown",
   "metadata": {},
   "source": [
    "## Data Preperation"
   ]
  },
  {
   "cell_type": "markdown",
   "metadata": {},
   "source": [
    "#### Missing values"
   ]
  },
  {
   "cell_type": "code",
   "execution_count": 3044,
   "metadata": {},
   "outputs": [],
   "source": [
    "def missing_values_table(dataframe, na_name=False):\r\n",
    "    na_columns = [col for col in dataframe.columns if dataframe[col].isnull().sum() > 0]\r\n",
    "\r\n",
    "    n_miss = dataframe[na_columns].isnull().sum().sort_values(ascending=False)\r\n",
    "\r\n",
    "    ratio = (dataframe[na_columns].isnull().sum() / dataframe.shape[0] * 100).sort_values(ascending=False)\r\n",
    "\r\n",
    "    dtypes = dataframe[na_columns].dtypes\r\n",
    "\r\n",
    "    missing_df = pd.concat([n_miss, np.round(ratio, 2),dtypes], axis=1, keys=['n_miss', 'ratio', 'dtypes'])\r\n",
    "\r\n",
    "    print(missing_df, end=\"\\n\")\r\n",
    "\r\n",
    "    if na_name:\r\n",
    "        return na_columns, missing_df"
   ]
  },
  {
   "cell_type": "markdown",
   "metadata": {},
   "source": [
    "#### Using the function above we are able to see below the details of missing values in our data set"
   ]
  },
  {
   "cell_type": "code",
   "execution_count": 3045,
   "metadata": {},
   "outputs": [
    {
     "name": "stdout",
     "output_type": "stream",
     "text": [
      "              n_miss  ratio   dtypes\n",
      "PoolQC          2909  99.66   object\n",
      "MiscFeature     2814  96.40   object\n",
      "Alley           2721  93.22   object\n",
      "Fence           2348  80.44   object\n",
      "SalePrice       1459  49.98   object\n",
      "FireplaceQu     1420  48.65   object\n",
      "LotFrontage      486  16.65  float64\n",
      "GarageYrBlt      159   5.45  float64\n",
      "GarageFinish     159   5.45   object\n",
      "GarageQual       159   5.45   object\n",
      "GarageCond       159   5.45   object\n",
      "GarageType       157   5.38   object\n",
      "BsmtCond          82   2.81   object\n",
      "BsmtExposure      82   2.81   object\n",
      "BsmtQual          81   2.77   object\n",
      "BsmtFinType2      80   2.74   object\n",
      "BsmtFinType1      79   2.71   object\n",
      "MasVnrType        24   0.82   object\n",
      "MasVnrArea        23   0.79  float64\n",
      "MSZoning           4   0.14   object\n",
      "BsmtFullBath       2   0.07  float64\n",
      "BsmtHalfBath       2   0.07  float64\n",
      "Functional         2   0.07   object\n",
      "Utilities          2   0.07   object\n",
      "BsmtFinSF2         1   0.03  float64\n",
      "BsmtUnfSF          1   0.03  float64\n",
      "BsmtFinSF1         1   0.03  float64\n",
      "TotalBsmtSF        1   0.03  float64\n",
      "SaleType           1   0.03   object\n",
      "KitchenQual        1   0.03   object\n",
      "Exterior2nd        1   0.03   object\n",
      "Exterior1st        1   0.03   object\n",
      "GarageCars         1   0.03  float64\n",
      "GarageArea         1   0.03  float64\n",
      "Electrical         1   0.03   object\n"
     ]
    }
   ],
   "source": [
    "na_columns, missing_df =missing_values_table(df, na_name=True)"
   ]
  },
  {
   "cell_type": "markdown",
   "metadata": {},
   "source": [
    "#### We will fill the missing values according to information given in data description document.\r\n",
    "#### If the missing values are less than 1% we will fill them with the mode of those variables\r\n",
    "#### For other variables as can be understand the missing values actually telling us that the feature does not exist. Therefore we will fill the most of these variables with \"0\""
   ]
  },
  {
   "cell_type": "code",
   "execution_count": 3046,
   "metadata": {},
   "outputs": [],
   "source": [
    "one_perc = missing_df[missing_df.ratio < 1].index.tolist()\r\n",
    "\r\n",
    "for col in one_perc:\r\n",
    "    if df[col].dtype==\"object\":\r\n",
    "        df[col].fillna(df[col].mode()[0], inplace=True)\r\n",
    "    else:\r\n",
    "        df[col].fillna(df[col].mean(), inplace=True)"
   ]
  },
  {
   "cell_type": "markdown",
   "metadata": {},
   "source": [
    "#### As you can se below we grabbed the missing values less than 1% and filled them with mode of each variable"
   ]
  },
  {
   "cell_type": "code",
   "execution_count": 3047,
   "metadata": {},
   "outputs": [
    {
     "name": "stdout",
     "output_type": "stream",
     "text": [
      "              n_miss  ratio   dtypes\n",
      "PoolQC          2909  99.66   object\n",
      "MiscFeature     2814  96.40   object\n",
      "Alley           2721  93.22   object\n",
      "Fence           2348  80.44   object\n",
      "SalePrice       1459  49.98   object\n",
      "FireplaceQu     1420  48.65   object\n",
      "LotFrontage      486  16.65  float64\n",
      "GarageYrBlt      159   5.45  float64\n",
      "GarageFinish     159   5.45   object\n",
      "GarageQual       159   5.45   object\n",
      "GarageCond       159   5.45   object\n",
      "GarageType       157   5.38   object\n",
      "BsmtExposure      82   2.81   object\n",
      "BsmtCond          82   2.81   object\n",
      "BsmtQual          81   2.77   object\n",
      "BsmtFinType2      80   2.74   object\n",
      "BsmtFinType1      79   2.71   object\n"
     ]
    }
   ],
   "source": [
    "na_columns, missing_df =missing_values_table(df, na_name=True)"
   ]
  },
  {
   "cell_type": "code",
   "execution_count": 3048,
   "metadata": {},
   "outputs": [],
   "source": [
    "bsmt = missing_df.index[missing_df.index.str.contains(\"Bsmt\")].tolist()\r\n",
    "\r\n",
    "for col in bsmt:\r\n",
    "    df[col].fillna(\"No_Bsmt\", inplace=True)"
   ]
  },
  {
   "cell_type": "markdown",
   "metadata": {},
   "source": [
    "#### As you can se below we grabbed the missing values regarding Basement variables and filled them with \"No_Bsmt\""
   ]
  },
  {
   "cell_type": "code",
   "execution_count": 3049,
   "metadata": {},
   "outputs": [
    {
     "name": "stdout",
     "output_type": "stream",
     "text": [
      "              n_miss  ratio   dtypes\n",
      "PoolQC          2909  99.66   object\n",
      "MiscFeature     2814  96.40   object\n",
      "Alley           2721  93.22   object\n",
      "Fence           2348  80.44   object\n",
      "SalePrice       1459  49.98   object\n",
      "FireplaceQu     1420  48.65   object\n",
      "LotFrontage      486  16.65  float64\n",
      "GarageCond       159   5.45   object\n",
      "GarageQual       159   5.45   object\n",
      "GarageFinish     159   5.45   object\n",
      "GarageYrBlt      159   5.45  float64\n",
      "GarageType       157   5.38   object\n"
     ]
    }
   ],
   "source": [
    "na_columns, missing_df =missing_values_table(df, na_name=True)"
   ]
  },
  {
   "cell_type": "code",
   "execution_count": 3050,
   "metadata": {},
   "outputs": [],
   "source": [
    "garage = missing_df.index[missing_df.index.str.contains(\"Garage\")].tolist()\r\n",
    "\r\n",
    "for col in garage:\r\n",
    "    df[col].fillna(\"No_Garage\", inplace=True)"
   ]
  },
  {
   "cell_type": "markdown",
   "metadata": {},
   "source": [
    "#### As you can se below we grabbed the missing values regarding Garage variables and filled them with \"No_Garage\""
   ]
  },
  {
   "cell_type": "code",
   "execution_count": 3051,
   "metadata": {},
   "outputs": [
    {
     "name": "stdout",
     "output_type": "stream",
     "text": [
      "             n_miss  ratio   dtypes\n",
      "PoolQC         2909  99.66   object\n",
      "MiscFeature    2814  96.40   object\n",
      "Alley          2721  93.22   object\n",
      "Fence          2348  80.44   object\n",
      "SalePrice      1459  49.98   object\n",
      "FireplaceQu    1420  48.65   object\n",
      "LotFrontage     486  16.65  float64\n"
     ]
    }
   ],
   "source": [
    "na_columns, missing_df =missing_values_table(df, na_name=True)"
   ]
  },
  {
   "cell_type": "code",
   "execution_count": 3052,
   "metadata": {},
   "outputs": [],
   "source": [
    "too_much = missing_df[missing_df.ratio > 70].index.tolist()\r\n",
    "\r\n",
    "for col in too_much:\r\n",
    "    df.drop([col], axis = 1, inplace = True)"
   ]
  },
  {
   "cell_type": "markdown",
   "metadata": {},
   "source": [
    "#### Variables containing missing values more than 70% are useless. Thats why we dropped them above"
   ]
  },
  {
   "cell_type": "code",
   "execution_count": 3053,
   "metadata": {},
   "outputs": [
    {
     "name": "stdout",
     "output_type": "stream",
     "text": [
      "             n_miss  ratio   dtypes\n",
      "SalePrice      1459  49.98   object\n",
      "FireplaceQu    1420  48.65   object\n",
      "LotFrontage     486  16.65  float64\n"
     ]
    }
   ],
   "source": [
    "na_columns, missing_df =missing_values_table(df, na_name=True)"
   ]
  },
  {
   "cell_type": "code",
   "execution_count": 3054,
   "metadata": {},
   "outputs": [],
   "source": [
    "\r\n",
    "df[\"FireplaceQu\"].fillna(\"No_Fireplace\", inplace=True)\r\n",
    "df[\"LotFrontage\"].fillna(0, inplace=True)"
   ]
  },
  {
   "cell_type": "markdown",
   "metadata": {},
   "source": [
    "#### Finally we filled the last 2 remaining variables with \"0\" and \"No_FirePlace\""
   ]
  },
  {
   "cell_type": "markdown",
   "metadata": {},
   "source": [
    "### RARE ENCODING"
   ]
  },
  {
   "cell_type": "markdown",
   "metadata": {},
   "source": [
    "#### Lets first change the dtype of our target variable "
   ]
  },
  {
   "cell_type": "code",
   "execution_count": 3055,
   "metadata": {},
   "outputs": [],
   "source": [
    "df['SalePrice'] = df['SalePrice'].astype('float64')"
   ]
  },
  {
   "cell_type": "code",
   "execution_count": 3056,
   "metadata": {},
   "outputs": [],
   "source": [
    "def rare_encoder(dataframe, rare_perc):\r\n",
    "    temp_df = dataframe.copy()\r\n",
    "    cat_but_car = [col for col in dataframe.columns if dataframe[col].nunique() > 20 and\r\n",
    "                   dataframe[col].dtypes == \"O\"]\r\n",
    "    ordinal_columns = df.columns[df.columns.str.contains(\"Cond\")+ df.columns.str.contains(\"Qu\")+df.columns.str.contains(\"QC\")+df.columns.str.contains(\"qual\")]\r\n",
    "\r\n",
    "    rare_columns = [col for col in temp_df.columns if temp_df[col].dtypes == 'O'\r\n",
    "                    and (temp_df[col].value_counts() / len(temp_df) < rare_perc).any(axis=None)]\r\n",
    "    rare_columns = [col for col in rare_columns if col not in cat_but_car]\r\n",
    "    rare_columns = [col for col in rare_columns if col not in ordinal_columns]\r\n",
    "    for var in rare_columns:\r\n",
    "        tmp = temp_df[var].value_counts() / len(temp_df)\r\n",
    "        rare_labels = tmp[tmp < rare_perc].index\r\n",
    "        temp_df[var] = np.where(temp_df[var].isin(rare_labels), 'Rare', temp_df[var])\r\n",
    "\r\n",
    "    return temp_df"
   ]
  },
  {
   "cell_type": "markdown",
   "metadata": {},
   "source": [
    "#### We will use function above to handle rare values in our data"
   ]
  },
  {
   "cell_type": "code",
   "execution_count": 3057,
   "metadata": {},
   "outputs": [],
   "source": [
    "df =rare_encoder(df, 0.02)"
   ]
  },
  {
   "cell_type": "markdown",
   "metadata": {},
   "source": [
    "## FEATURE ENGINEERING"
   ]
  },
  {
   "cell_type": "code",
   "execution_count": 3058,
   "metadata": {},
   "outputs": [
    {
     "data": {
      "text/plain": "Index(['Id', 'MSSubClass', 'MSZoning', 'LotFrontage', 'LotArea', 'Street',\n       'LotShape', 'LandContour', 'Utilities', 'LotConfig', 'LandSlope',\n       'Neighborhood', 'Condition1', 'Condition2', 'BldgType', 'HouseStyle',\n       'OverallQual', 'OverallCond', 'YearBuilt', 'YearRemodAdd'],\n      dtype='object')"
     },
     "execution_count": 3058,
     "metadata": {},
     "output_type": "execute_result"
    }
   ],
   "source": [
    "df.columns[0:20]"
   ]
  },
  {
   "cell_type": "markdown",
   "metadata": {},
   "source": [
    "### ID"
   ]
  },
  {
   "cell_type": "code",
   "execution_count": 3059,
   "metadata": {},
   "outputs": [],
   "source": [
    "df.drop([\"Id\"], axis = 1, inplace = True)"
   ]
  },
  {
   "cell_type": "markdown",
   "metadata": {},
   "source": [
    "### MSSubClass"
   ]
  },
  {
   "cell_type": "code",
   "execution_count": 3060,
   "metadata": {},
   "outputs": [
    {
     "data": {
      "text/plain": "20     1079\n60      575\n50      287\n120     182\n30      139\n160     128\n70      128\n80      118\n90      109\n190      61\n85       48\n75       23\n45       18\n180      17\n40        6\n150       1\nName: MSSubClass, dtype: int64"
     },
     "execution_count": 3060,
     "metadata": {},
     "output_type": "execute_result"
    }
   ],
   "source": [
    "df['MSSubClass'].value_counts()"
   ]
  },
  {
   "cell_type": "markdown",
   "metadata": {},
   "source": [
    "#### As you can see above some variables were able to hide from our rare_encoder function thanks to their dtypes. Below we will manually handle them"
   ]
  },
  {
   "cell_type": "code",
   "execution_count": 3061,
   "metadata": {},
   "outputs": [],
   "source": [
    "tmp = df['MSSubClass'].value_counts() / len(df)\r\n",
    "rare_labels = tmp[tmp < 0.02].index\r\n",
    "df['MSSubClass'] = np.where(df['MSSubClass'].isin(rare_labels), 'Rare', df['MSSubClass'])"
   ]
  },
  {
   "cell_type": "code",
   "execution_count": 3062,
   "metadata": {},
   "outputs": [
    {
     "data": {
      "text/plain": "20      1079\n60       575\n50       287\n120      182\n30       139\n70       128\n160      128\n80       118\nRare     113\n90       109\n190       61\nName: MSSubClass, dtype: int64"
     },
     "execution_count": 3062,
     "metadata": {},
     "output_type": "execute_result"
    }
   ],
   "source": [
    "df['MSSubClass'].value_counts()"
   ]
  },
  {
   "cell_type": "markdown",
   "metadata": {},
   "source": [
    "### Street"
   ]
  },
  {
   "cell_type": "code",
   "execution_count": 3063,
   "metadata": {},
   "outputs": [
    {
     "data": {
      "text/plain": "Pave    2907\nRare      12\nName: Street, dtype: int64"
     },
     "execution_count": 3063,
     "metadata": {},
     "output_type": "execute_result"
    }
   ],
   "source": [
    "df['Street'].value_counts()"
   ]
  },
  {
   "cell_type": "markdown",
   "metadata": {},
   "source": [
    "#### As you can see above although we preformed rare encoding some variables containing values that too rare to perform rare encoding. We better drop them"
   ]
  },
  {
   "cell_type": "code",
   "execution_count": 3064,
   "metadata": {},
   "outputs": [],
   "source": [
    "df.drop([\"Street\"], axis = 1, inplace = True)"
   ]
  },
  {
   "cell_type": "markdown",
   "metadata": {},
   "source": [
    "### Utilities"
   ]
  },
  {
   "cell_type": "code",
   "execution_count": 3065,
   "metadata": {},
   "outputs": [
    {
     "data": {
      "text/plain": "AllPub    2918\nRare         1\nName: Utilities, dtype: int64"
     },
     "execution_count": 3065,
     "metadata": {},
     "output_type": "execute_result"
    }
   ],
   "source": [
    "df[\"Utilities\"].value_counts()"
   ]
  },
  {
   "cell_type": "markdown",
   "metadata": {},
   "source": [
    "#### As you can see above although we preformed rare encoding some variables containing values that too rare to perform rare encoding. We better drop them"
   ]
  },
  {
   "cell_type": "code",
   "execution_count": 3066,
   "metadata": {},
   "outputs": [],
   "source": [
    "df.drop([\"Utilities\"], axis = 1, inplace = True)"
   ]
  },
  {
   "cell_type": "markdown",
   "metadata": {},
   "source": [
    "### Condition2"
   ]
  },
  {
   "cell_type": "code",
   "execution_count": 3067,
   "metadata": {},
   "outputs": [
    {
     "data": {
      "text/plain": "Norm      2889\nFeedr       13\nArtery       5\nPosA         4\nPosN         4\nRRNn         2\nRRAn         1\nRRAe         1\nName: Condition2, dtype: int64"
     },
     "execution_count": 3067,
     "metadata": {},
     "output_type": "execute_result"
    }
   ],
   "source": [
    "df[\"Condition2\"].value_counts()"
   ]
  },
  {
   "cell_type": "markdown",
   "metadata": {},
   "source": [
    "#### As you can see above although we preformed rare encoding some variables containing values that too rare to perform rare encoding. We better drop them"
   ]
  },
  {
   "cell_type": "code",
   "execution_count": 3068,
   "metadata": {},
   "outputs": [],
   "source": [
    "df.drop([\"Condition2\"], axis = 1, inplace = True)"
   ]
  },
  {
   "cell_type": "code",
   "execution_count": 3069,
   "metadata": {},
   "outputs": [
    {
     "data": {
      "text/plain": "5    1645\n6     531\n7     390\n8     144\n4     101\n3      50\n9      41\n2      10\n1       7\nName: OverallCond, dtype: int64"
     },
     "execution_count": 3069,
     "metadata": {},
     "output_type": "execute_result"
    }
   ],
   "source": [
    "df[\"OverallCond\"].value_counts()"
   ]
  },
  {
   "cell_type": "markdown",
   "metadata": {},
   "source": [
    "### YearBuilt - YearRemodAdd"
   ]
  },
  {
   "cell_type": "markdown",
   "metadata": {},
   "source": [
    "#### We will create an age variable out of Yearbuilt and YearRemod variables and drop bpth of these variables. Because as mentioned in data description document these two variables are sharing almost the same values"
   ]
  },
  {
   "cell_type": "code",
   "execution_count": 3070,
   "metadata": {},
   "outputs": [],
   "source": [
    "df[\"Age\"] = df[\"YearRemodAdd\"].max() - df[\"YearRemodAdd\"]"
   ]
  },
  {
   "cell_type": "code",
   "execution_count": 3071,
   "metadata": {},
   "outputs": [
    {
     "data": {
      "text/plain": "count    2919.000000\nmean       25.735526\nstd        20.894344\nmin         0.000000\n25%         6.000000\n50%        17.000000\n75%        45.000000\nmax        60.000000\nName: Age, dtype: float64"
     },
     "execution_count": 3071,
     "metadata": {},
     "output_type": "execute_result"
    }
   ],
   "source": [
    "\r\n",
    "df[\"Age\"].describe()\r\n"
   ]
  },
  {
   "cell_type": "code",
   "execution_count": 3072,
   "metadata": {},
   "outputs": [],
   "source": [
    "df.drop([\"YearRemodAdd\"], axis = 1, inplace = True)\r\n",
    "df.drop([\"YearBuilt\"], axis = 1, inplace = True)"
   ]
  },
  {
   "cell_type": "markdown",
   "metadata": {},
   "source": [
    "### RoofMatl"
   ]
  },
  {
   "cell_type": "code",
   "execution_count": 3073,
   "metadata": {},
   "outputs": [
    {
     "data": {
      "text/plain": "CompShg    2876\nRare         43\nName: RoofMatl, dtype: int64"
     },
     "execution_count": 3073,
     "metadata": {},
     "output_type": "execute_result"
    }
   ],
   "source": [
    "df[\"RoofMatl\"].value_counts()"
   ]
  },
  {
   "cell_type": "markdown",
   "metadata": {},
   "source": [
    "#### As you can see above although we preformed rare encoding some variables containing values that too rare to perform rare encoding. We better drop them"
   ]
  },
  {
   "cell_type": "code",
   "execution_count": 3074,
   "metadata": {},
   "outputs": [],
   "source": [
    "df.drop([\"RoofMatl\"], axis = 1, inplace = True)"
   ]
  },
  {
   "cell_type": "markdown",
   "metadata": {},
   "source": [
    "### ExterCond + ExterQual = ExterScore"
   ]
  },
  {
   "cell_type": "code",
   "execution_count": 3075,
   "metadata": {},
   "outputs": [
    {
     "data": {
      "text/plain": "TA    2538\nGd     299\nFa      67\nEx      12\nPo       3\nName: ExterCond, dtype: int64"
     },
     "execution_count": 3075,
     "metadata": {},
     "output_type": "execute_result"
    }
   ],
   "source": [
    "df[\"ExterCond\"].value_counts()"
   ]
  },
  {
   "cell_type": "code",
   "execution_count": 3076,
   "metadata": {},
   "outputs": [
    {
     "data": {
      "text/plain": "TA    1798\nGd     979\nEx     107\nFa      35\nName: ExterQual, dtype: int64"
     },
     "execution_count": 3076,
     "metadata": {},
     "output_type": "execute_result"
    }
   ],
   "source": [
    "df[\"ExterQual\"].value_counts()"
   ]
  },
  {
   "cell_type": "code",
   "execution_count": 3077,
   "metadata": {},
   "outputs": [],
   "source": [
    "df[\"ExterQual\"] = df[\"ExterQual\"].replace( [\"TA\", \"Gd\", \"Ex\", \"Fa\"], [3,4,5,2])\r\n",
    "df[\"ExterCond\"] = df[\"ExterCond\"].replace( [\"TA\", \"Gd\", \"Ex\", \"Fa\", \"Po\"], [3,4,5,2,1])\r\n",
    "df[\"ExterScore\"] = df[\"ExterCond\"] + df[\"ExterQual\"]\r\n",
    "df.drop([\"ExterCond\"], axis = 1, inplace = True)\r\n",
    "df.drop([\"ExterQual\"], axis = 1, inplace = True)"
   ]
  },
  {
   "cell_type": "markdown",
   "metadata": {},
   "source": [
    "#### As you can see above we replaced the values of Exterior variables with ordinal integers. We created the Exterior_score variable below out of these 2 variables and we dropped the ExterQual and ExterCond variables"
   ]
  },
  {
   "cell_type": "code",
   "execution_count": 3078,
   "metadata": {},
   "outputs": [
    {
     "data": {
      "text/plain": "6     1525\n7     1120\n8      182\n5       61\n4       21\n9        6\n10       3\n3        1\nName: ExterScore, dtype: int64"
     },
     "execution_count": 3078,
     "metadata": {},
     "output_type": "execute_result"
    }
   ],
   "source": [
    "df[\"ExterScore\"].value_counts()"
   ]
  },
  {
   "cell_type": "markdown",
   "metadata": {},
   "source": [
    "### BsmtQual + BsmtCond = BsmtScore"
   ]
  },
  {
   "cell_type": "code",
   "execution_count": 3079,
   "metadata": {},
   "outputs": [
    {
     "data": {
      "text/plain": "TA         1283\nGd         1209\nEx          258\nFa           88\nNo_Bsmt      81\nName: BsmtQual, dtype: int64"
     },
     "execution_count": 3079,
     "metadata": {},
     "output_type": "execute_result"
    }
   ],
   "source": [
    "df[\"BsmtQual\"].value_counts()"
   ]
  },
  {
   "cell_type": "code",
   "execution_count": 3080,
   "metadata": {},
   "outputs": [
    {
     "data": {
      "text/plain": "TA         2606\nGd          122\nFa          104\nNo_Bsmt      82\nPo            5\nName: BsmtCond, dtype: int64"
     },
     "execution_count": 3080,
     "metadata": {},
     "output_type": "execute_result"
    }
   ],
   "source": [
    "df[\"BsmtCond\"].value_counts()"
   ]
  },
  {
   "cell_type": "markdown",
   "metadata": {},
   "source": [
    "#### We did exactly the same thing we did in Exterier variables."
   ]
  },
  {
   "cell_type": "code",
   "execution_count": 3081,
   "metadata": {},
   "outputs": [],
   "source": [
    "df[\"BsmtQual\"] = df[\"BsmtQual\"].replace( [\"TA\", \"Gd\", \"Ex\", \"Fa\",\"No_Bsmt\"], [3,4,5,2,0])\r\n",
    "df[\"BsmtCond\"] = df[\"BsmtCond\"].replace( [\"TA\", \"Gd\", \"Fa\", \"Po\",\"No_Bsmt\"], [3,4,2,1,0])\r\n",
    "df[\"BsmtScore\"] = df[\"BsmtCond\"] + df[\"BsmtQual\"]\r\n",
    "df.drop([\"BsmtCond\"], axis = 1, inplace = True)\r\n",
    "df.drop([\"BsmtQual\"], axis = 1, inplace = True)\r\n"
   ]
  },
  {
   "cell_type": "code",
   "execution_count": 3082,
   "metadata": {},
   "outputs": [
    {
     "data": {
      "text/plain": "6    1189\n7    1164\n8     300\n5     133\n0      79\n4      24\n9      23\n3       6\n2       1\nName: BsmtScore, dtype: int64"
     },
     "execution_count": 3082,
     "metadata": {},
     "output_type": "execute_result"
    }
   ],
   "source": [
    "df[\"BsmtScore\"].value_counts()"
   ]
  },
  {
   "cell_type": "markdown",
   "metadata": {},
   "source": [
    "### BsmtExposure"
   ]
  },
  {
   "cell_type": "code",
   "execution_count": 3083,
   "metadata": {},
   "outputs": [],
   "source": [
    "df[\"BsmtExposure\"] = df[\"BsmtExposure\"].replace( [\"No_Bsmt\", \"Gd\", \"No\", \"Mn\", \"Av\"], [0,4,1,2,3])"
   ]
  },
  {
   "cell_type": "markdown",
   "metadata": {},
   "source": [
    "#### Here also we replaced the values with ordinal integers"
   ]
  },
  {
   "cell_type": "markdown",
   "metadata": {},
   "source": [
    "### BsmtFinSF1-2 =BsmtFinSF1 + BsmtFinSF2"
   ]
  },
  {
   "cell_type": "code",
   "execution_count": 3084,
   "metadata": {},
   "outputs": [
    {
     "data": {
      "text/plain": "count    2919.000000\nmean      441.423235\nstd       455.532750\nmin         0.000000\n25%         0.000000\n50%       369.000000\n75%       733.000000\nmax      5644.000000\nName: BsmtFinSF1, dtype: float64"
     },
     "execution_count": 3084,
     "metadata": {},
     "output_type": "execute_result"
    }
   ],
   "source": [
    "df[\"BsmtFinSF1\"].describe()"
   ]
  },
  {
   "cell_type": "code",
   "execution_count": 3085,
   "metadata": {},
   "outputs": [],
   "source": [
    "df['BsmtFinSF1-2'] = df['BsmtFinSF1'] + df['BsmtFinSF2']\r\n",
    "df.drop([\"BsmtFinSF1\"], axis = 1, inplace = True)\r\n",
    "df.drop([\"BsmtFinSF2\"], axis = 1, inplace = True)"
   ]
  },
  {
   "cell_type": "markdown",
   "metadata": {},
   "source": [
    "#### Here we create a new variable out of BsmtFinSF1 and BsmtFinSF2 variables. Then we droped these two variables"
   ]
  },
  {
   "cell_type": "code",
   "execution_count": 3086,
   "metadata": {},
   "outputs": [
    {
     "data": {
      "text/plain": "count    2919.000000\nmean      491.005483\nstd       477.123276\nmin         0.000000\n50%       458.000000\n95%      1328.100000\n99%      1685.820000\nmax      5644.000000\nName: BsmtFinSF1-2, dtype: float64"
     },
     "execution_count": 3086,
     "metadata": {},
     "output_type": "execute_result"
    }
   ],
   "source": [
    "df['BsmtFinSF1-2'].describe([0.95,0.99]).T"
   ]
  },
  {
   "cell_type": "markdown",
   "metadata": {},
   "source": [
    "### BsmtUnfSF"
   ]
  },
  {
   "cell_type": "code",
   "execution_count": 3087,
   "metadata": {},
   "outputs": [],
   "source": [
    "df['FinishedRate'] = (df['TotalBsmtSF'] - df[\"BsmtUnfSF\"]) / df['TotalBsmtSF']\r\n",
    "df[\"FinishedRate\"].fillna(0, inplace = True)\r\n",
    "df.drop([\"BsmtUnfSF\"], axis = 1, inplace = True)"
   ]
  },
  {
   "cell_type": "markdown",
   "metadata": {},
   "source": [
    "#### Here we created a FinishedRate variable and dropped BsmtUnfSF"
   ]
  },
  {
   "cell_type": "code",
   "execution_count": 3088,
   "metadata": {},
   "outputs": [
    {
     "data": {
      "text/plain": "count    2919.000000\nmean        0.437437\nstd         0.363824\nmin         0.000000\n50%         0.500456\n95%         1.000000\n99%         1.000000\nmax         1.000000\nName: FinishedRate, dtype: float64"
     },
     "execution_count": 3088,
     "metadata": {},
     "output_type": "execute_result"
    }
   ],
   "source": [
    "df['FinishedRate'].describe([0.95,0.99]).T"
   ]
  },
  {
   "cell_type": "markdown",
   "metadata": {},
   "source": [
    "### Heating"
   ]
  },
  {
   "cell_type": "code",
   "execution_count": 3089,
   "metadata": {},
   "outputs": [
    {
     "data": {
      "text/plain": "GasA    2874\nRare      45\nName: Heating, dtype: int64"
     },
     "execution_count": 3089,
     "metadata": {},
     "output_type": "execute_result"
    }
   ],
   "source": [
    "df[\"Heating\"].value_counts()"
   ]
  },
  {
   "cell_type": "markdown",
   "metadata": {},
   "source": [
    "#### As you can see the heating variable does not contain much information. Thats why we will drop it"
   ]
  },
  {
   "cell_type": "code",
   "execution_count": 3090,
   "metadata": {},
   "outputs": [],
   "source": [
    "df.drop([\"Heating\"], axis = 1, inplace = True)"
   ]
  },
  {
   "cell_type": "markdown",
   "metadata": {},
   "source": [
    "### HeatingQC"
   ]
  },
  {
   "cell_type": "code",
   "execution_count": 3091,
   "metadata": {},
   "outputs": [
    {
     "data": {
      "text/plain": "Ex    1493\nTA     857\nGd     474\nFa      92\nPo       3\nName: HeatingQC, dtype: int64"
     },
     "execution_count": 3091,
     "metadata": {},
     "output_type": "execute_result"
    }
   ],
   "source": [
    "df[\"HeatingQC\"].value_counts()"
   ]
  },
  {
   "cell_type": "markdown",
   "metadata": {},
   "source": [
    "#### Here we will replace values with ordinal integer values as we did earlier in some other variables"
   ]
  },
  {
   "cell_type": "code",
   "execution_count": 3092,
   "metadata": {},
   "outputs": [],
   "source": [
    "df[\"HeatingQC\"] = df[\"HeatingQC\"].replace( [\"TA\", \"Gd\", \"Ex\", \"Fa\", \"Po\"], [3,4,5,2,1])"
   ]
  },
  {
   "cell_type": "code",
   "execution_count": 3093,
   "metadata": {},
   "outputs": [
    {
     "data": {
      "text/plain": "5    1493\n3     857\n4     474\n2      92\n1       3\nName: HeatingQC, dtype: int64"
     },
     "execution_count": 3093,
     "metadata": {},
     "output_type": "execute_result"
    }
   ],
   "source": [
    "df[\"HeatingQC\"].value_counts()"
   ]
  },
  {
   "cell_type": "markdown",
   "metadata": {},
   "source": [
    "### TotalSF = 1stFlrSF + 2ndFlrSF"
   ]
  },
  {
   "cell_type": "code",
   "execution_count": 3094,
   "metadata": {},
   "outputs": [],
   "source": [
    "df[\"TotalSF\"] = df[\"2ndFlrSF\"] + df[\"1stFlrSF\"]\r\n",
    "df.drop([\"2ndFlrSF\"], axis = 1, inplace = True)\r\n",
    "df.drop([\"1stFlrSF\"], axis = 1, inplace = True)"
   ]
  },
  {
   "cell_type": "markdown",
   "metadata": {},
   "source": [
    "#### Here we created a \"TotalSF\" variable out of 1stFlrSF and 2ndFlrSF variables and we dropped these 2 variables"
   ]
  },
  {
   "cell_type": "markdown",
   "metadata": {},
   "source": [
    "### LowQualFinSF "
   ]
  },
  {
   "cell_type": "code",
   "execution_count": 3095,
   "metadata": {},
   "outputs": [
    {
     "data": {
      "text/plain": "count    2919.000000\nmean        4.694416\nstd        46.396825\nmin         0.000000\n50%         0.000000\n95%         0.000000\n99%       153.840000\nmax      1064.000000\nName: LowQualFinSF, dtype: float64"
     },
     "execution_count": 3095,
     "metadata": {},
     "output_type": "execute_result"
    }
   ],
   "source": [
    "df[\"LowQualFinSF\"].describe([0.95,0.99]).T"
   ]
  },
  {
   "cell_type": "markdown",
   "metadata": {},
   "source": [
    "#### As you can see the LowQualFinSF variable does not contain much information. Thats why we will drop it"
   ]
  },
  {
   "cell_type": "code",
   "execution_count": 3096,
   "metadata": {},
   "outputs": [],
   "source": [
    "df.drop([\"LowQualFinSF\"], axis = 1, inplace = True)"
   ]
  },
  {
   "cell_type": "markdown",
   "metadata": {},
   "source": [
    "### BsmtTotalBath= BsmtFullBath + BsmtHalfBath "
   ]
  },
  {
   "cell_type": "code",
   "execution_count": 3097,
   "metadata": {},
   "outputs": [],
   "source": [
    "df[\"BsmtHalfBath\"] = df[\"BsmtHalfBath\"] / 2\r\n",
    "df[\"BsmtTotalBath\"] = df[\"BsmtHalfBath\"] + df[\"BsmtFullBath\"]\r\n",
    "df.drop([\"BsmtHalfBath\"], axis = 1, inplace = True)\r\n",
    "df.drop([\"BsmtFullBath\"], axis = 1, inplace = True)\r\n"
   ]
  },
  {
   "cell_type": "markdown",
   "metadata": {},
   "source": [
    "#### Here we devided the number of BsmtHalfBath by 2 as it is half bath. Then we created the BsmtTotalBath varibale by taking the sum of the half and ful basement numbers. After that we dropped the BsmtHalfBath and BsmtFullBath varibales"
   ]
  },
  {
   "cell_type": "code",
   "execution_count": 3098,
   "metadata": {},
   "outputs": [
    {
     "data": {
      "text/plain": "0.000000    1550\n1.000000    1155\n0.500000     152\n2.000000      39\n1.500000      19\n0.460576       2\n3.000000       2\nName: BsmtTotalBath, dtype: int64"
     },
     "execution_count": 3098,
     "metadata": {},
     "output_type": "execute_result"
    }
   ],
   "source": [
    "df[\"BsmtTotalBath\"].value_counts()"
   ]
  },
  {
   "cell_type": "markdown",
   "metadata": {},
   "source": [
    "### TotalBath= FullBath + HalfBath "
   ]
  },
  {
   "cell_type": "code",
   "execution_count": 3099,
   "metadata": {},
   "outputs": [],
   "source": [
    "df[\"HalfBath\"] = df[\"HalfBath\"] / 2\r\n",
    "df[\"TotalBath\"] = df[\"HalfBath\"] + df[\"FullBath\"]\r\n",
    "df.drop([\"HalfBath\"], axis = 1, inplace = True)\r\n",
    "df.drop([\"FullBath\"], axis = 1, inplace = True)\r\n"
   ]
  },
  {
   "cell_type": "markdown",
   "metadata": {},
   "source": [
    "#### We did exactly the same thing as we did in Basement Baths"
   ]
  },
  {
   "cell_type": "code",
   "execution_count": 3100,
   "metadata": {},
   "outputs": [
    {
     "data": {
      "text/plain": "1.0    943\n2.0    868\n2.5    658\n1.5    364\n3.0     40\n3.5     33\n0.5      5\n5.0      4\n0.0      3\n4.0      1\nName: TotalBath, dtype: int64"
     },
     "execution_count": 3100,
     "metadata": {},
     "output_type": "execute_result"
    }
   ],
   "source": [
    "df[\"TotalBath\"].value_counts()"
   ]
  },
  {
   "cell_type": "code",
   "execution_count": 3101,
   "metadata": {},
   "outputs": [
    {
     "data": {
      "text/plain": "count    2919.000000\nmean        2.860226\nstd         0.822693\nmin         0.000000\n25%         2.000000\n50%         3.000000\n75%         3.000000\nmax         8.000000\nName: BedroomAbvGr, dtype: float64"
     },
     "execution_count": 3101,
     "metadata": {},
     "output_type": "execute_result"
    }
   ],
   "source": [
    "df[\"BedroomAbvGr\"].describe().T"
   ]
  },
  {
   "cell_type": "markdown",
   "metadata": {},
   "source": [
    "### TotRmsAbvGrd"
   ]
  },
  {
   "cell_type": "code",
   "execution_count": 3102,
   "metadata": {},
   "outputs": [],
   "source": [
    "df[\"TotRmsAbvGrd\"] = df[\"TotRmsAbvGrd\"] - df[\"BedroomAbvGr\"]"
   ]
  },
  {
   "cell_type": "markdown",
   "metadata": {},
   "source": [
    "#### As it is mentioned in data description that TotalRmsAbvGrd includes the number of BedroomAbvGr, we extract it from TotRmsAbvGrd"
   ]
  },
  {
   "cell_type": "code",
   "execution_count": 3103,
   "metadata": {},
   "outputs": [
    {
     "data": {
      "text/plain": "count    2919.000000\nmean        1.044536\nstd         0.214462\nmin         0.000000\n25%         1.000000\n50%         1.000000\n75%         1.000000\nmax         3.000000\nName: KitchenAbvGr, dtype: float64"
     },
     "execution_count": 3103,
     "metadata": {},
     "output_type": "execute_result"
    }
   ],
   "source": [
    "df[\"KitchenAbvGr\"].describe().T"
   ]
  },
  {
   "cell_type": "markdown",
   "metadata": {},
   "source": [
    "### KitchenQual"
   ]
  },
  {
   "cell_type": "code",
   "execution_count": 3104,
   "metadata": {},
   "outputs": [],
   "source": [
    "df[\"KitchenQual\"] = df[\"KitchenQual\"].replace( [\"TA\", \"Gd\", \"Ex\", \"Fa\", \"Po\"], [3,4,5,2,1])"
   ]
  },
  {
   "cell_type": "markdown",
   "metadata": {},
   "source": [
    "#### Here we transformed tha values into ordinal integers"
   ]
  },
  {
   "cell_type": "markdown",
   "metadata": {},
   "source": [
    "### FireplaceQu"
   ]
  },
  {
   "cell_type": "code",
   "execution_count": 3105,
   "metadata": {},
   "outputs": [
    {
     "data": {
      "text/plain": "No_Fireplace    1420\nGd               744\nTA               592\nFa                74\nPo                46\nEx                43\nName: FireplaceQu, dtype: int64"
     },
     "execution_count": 3105,
     "metadata": {},
     "output_type": "execute_result"
    }
   ],
   "source": [
    "df[\"FireplaceQu\"].value_counts()"
   ]
  },
  {
   "cell_type": "code",
   "execution_count": 3106,
   "metadata": {},
   "outputs": [],
   "source": [
    "df[\"FireplaceQu\"] = df[\"FireplaceQu\"].replace( [\"TA\", \"Gd\", \"Ex\", \"Fa\", \"Po\",\"No_Fireplace\"], [3,4,5,2,1,0])"
   ]
  },
  {
   "cell_type": "markdown",
   "metadata": {},
   "source": [
    "#### Here we will replace values with ordinal integer values as we did earlier in some other variables"
   ]
  },
  {
   "cell_type": "markdown",
   "metadata": {},
   "source": [
    "### GarageYrBlt"
   ]
  },
  {
   "cell_type": "code",
   "execution_count": 3107,
   "metadata": {},
   "outputs": [],
   "source": [
    "df[\"GarageYrBlt\"][df[\"GarageYrBlt\"] == \"No_Garage\"] = None\r\n",
    "df[\"GarageYrBlt\"][df[\"GarageYrBlt\"] > 2010] = 2007\r\n",
    "df[\"GarageAge\"] = (2010 - df[\"GarageYrBlt\"])\r\n",
    "df[\"GarageAge\"][df[\"GarageAge\"].isna()] = df[\"Age\"]\r\n",
    "df.drop([\"GarageYrBlt\"], axis = 1, inplace = True)\r\n",
    "df[\"GarageAge\"]=df[\"GarageAge\"].astype(int)"
   ]
  },
  {
   "cell_type": "markdown",
   "metadata": {},
   "source": [
    "#### Here we transformed our \"No_Garage\" values to \"None\" in order to perform the calculations. Then we fixed the mistake in GarageYrBlt variable. Then we calculated the age of each garage as a new variable. For the \"None\" values we assigned the value of the age of each house. Finally we dropped GarageYrBlt variable"
   ]
  },
  {
   "cell_type": "markdown",
   "metadata": {},
   "source": [
    "### GarageaArea_Cars = GarageArea / GarageCars"
   ]
  },
  {
   "cell_type": "code",
   "execution_count": 3108,
   "metadata": {},
   "outputs": [],
   "source": [
    "df[\"GarageaArea_Cars\"] = df[\"GarageArea\"] / (df[\"GarageArea\"].sum() / df[\"GarageCars\"].sum())\r\n",
    "df.drop([\"GarageArea\"], axis = 1, inplace = True)\r\n",
    "df.drop([\"GarageCars\"], axis = 1, inplace = True)"
   ]
  },
  {
   "cell_type": "markdown",
   "metadata": {},
   "source": [
    "#### Here we created a new variable out of GarageArea and GarageCars variables. Basicly we devided the garage area to the avarage space that one car fits. Then we dropped the GarageArea and GarageCars variables as they are carrying almost the same information"
   ]
  },
  {
   "cell_type": "markdown",
   "metadata": {},
   "source": [
    "### GarageScore = GarageQual + GarageCond"
   ]
  },
  {
   "cell_type": "code",
   "execution_count": 3109,
   "metadata": {},
   "outputs": [],
   "source": [
    "df[\"GarageQual\"] = df[\"GarageQual\"].replace( [\"TA\", \"Gd\", \"Ex\", \"Fa\", \"Po\",\"No_Garage\"], [3,4,5,2,1,0])\r\n",
    "df[\"GarageCond\"] = df[\"GarageCond\"].replace( [\"TA\", \"Gd\", \"Ex\", \"Fa\", \"Po\",\"No_Garage\"], [3,4,5,2,1,0])\r\n",
    "df[\"GarageScore\"] = (df[\"GarageCond\"] + df[\"GarageQual\"])\r\n",
    "df.drop([\"GarageCond\"], axis = 1, inplace = True)\r\n",
    "df.drop([\"GarageQual\"], axis = 1, inplace = True)\r\n"
   ]
  },
  {
   "cell_type": "markdown",
   "metadata": {},
   "source": [
    "#### Here we transformed the GarageQual and GarageCond as we did earlier with different variables. Then we took the sum of these two variable and create the GarageScore variable. Then we dropped the GarageQual and GarageCond"
   ]
  },
  {
   "cell_type": "markdown",
   "metadata": {},
   "source": [
    "### Porch = OpenPorchSF + EnclosedPorch + 3SsnPorch + ScreenPorch"
   ]
  },
  {
   "cell_type": "code",
   "execution_count": 3110,
   "metadata": {},
   "outputs": [],
   "source": [
    "df['Porch'] = df['ScreenPorch'] +df['OpenPorchSF'] + df['EnclosedPorch'] + df['3SsnPorch']\r\n",
    "df.drop([\"ScreenPorch\"], axis = 1, inplace = True)\r\n",
    "df.drop([\"OpenPorchSF\"], axis = 1, inplace = True)\r\n",
    "df.drop([\"EnclosedPorch\"], axis = 1, inplace = True)\r\n",
    "df.drop([\"3SsnPorch\"], axis = 1, inplace = True)"
   ]
  },
  {
   "cell_type": "markdown",
   "metadata": {},
   "source": [
    "#### Here we took the sum of these four variables and create the Porch variable. Then we dropped all the Porch related variables"
   ]
  },
  {
   "cell_type": "code",
   "execution_count": 3111,
   "metadata": {},
   "outputs": [
    {
     "data": {
      "text/plain": "count    2919.000000\nmean       89.249743\nstd       107.902805\nmin         0.000000\n25%         0.000000\n50%        50.000000\n75%       136.000000\nmax      1207.000000\nName: Porch, dtype: float64"
     },
     "execution_count": 3111,
     "metadata": {},
     "output_type": "execute_result"
    }
   ],
   "source": [
    "df[\"Porch\"].describe().T"
   ]
  },
  {
   "cell_type": "markdown",
   "metadata": {},
   "source": [
    "### PoolArea"
   ]
  },
  {
   "cell_type": "markdown",
   "metadata": {},
   "source": [
    "#### As there are only 13 house with pools we will drop the pool related variables"
   ]
  },
  {
   "cell_type": "code",
   "execution_count": 3112,
   "metadata": {},
   "outputs": [],
   "source": [
    "df.drop([\"PoolArea\"], axis = 1, inplace = True)"
   ]
  },
  {
   "cell_type": "markdown",
   "metadata": {},
   "source": [
    "### MiscVal"
   ]
  },
  {
   "cell_type": "markdown",
   "metadata": {},
   "source": [
    "#### MiscVal variable is the market value of the extra features of houses. We will drop these variable but after the price prediction we will add these values to the predictions"
   ]
  },
  {
   "cell_type": "code",
   "execution_count": 3113,
   "metadata": {},
   "outputs": [],
   "source": [
    "df.drop([\"MiscVal\"], axis = 1, inplace = True)"
   ]
  },
  {
   "cell_type": "markdown",
   "metadata": {},
   "source": [
    "### MoSold - YrSold"
   ]
  },
  {
   "cell_type": "code",
   "execution_count": 3114,
   "metadata": {},
   "outputs": [],
   "source": [
    "df[\"YrSold\"] = df[\"YrSold\"].astype(str)\r\n",
    "df[\"MoSold\"] = df[\"MoSold\"].astype(str)\r\n",
    "df[\"MoSold\"] = df[\"MoSold\"].replace([\"12\",\"1\",\"2\", \"9\",\"10\",\"11\", \"6\",\"7\",\"8\", \"3\",\"4\",\"5\"], [\"4\",\"4\",\"4\",\"3\",\"3\",\"3\",\"2\",\"2\",\"2\",\"1\",\"1\",\"1\"])\r\n",
    "df[\"YrMnSold\"] =  df[\"YrSold\"] + df[\"MoSold\"]\r\n",
    "df.drop([\"YrSold\"], axis = 1, inplace = True)\r\n",
    "df.drop([\"MoSold\"], axis = 1, inplace = True)\r\n",
    "df[\"YrMnSold\"] = df[\"YrMnSold\"].astype(object)"
   ]
  },
  {
   "cell_type": "markdown",
   "metadata": {},
   "source": [
    "#### In order to catch the seasonal differences we replaced month values with integers(1,2,3,4) representing the seasons. Then we join the month values with year values and created the variable \"YrMnSold\". Then we dropped YrSold and MoSold variables"
   ]
  },
  {
   "cell_type": "markdown",
   "metadata": {},
   "source": [
    "### SaleCondition"
   ]
  },
  {
   "cell_type": "code",
   "execution_count": 3115,
   "metadata": {},
   "outputs": [
    {
     "data": {
      "text/plain": "Normal     2402\nPartial     245\nAbnorml     190\nFamily       46\nAlloca       24\nAdjLand      12\nName: SaleCondition, dtype: int64"
     },
     "execution_count": 3115,
     "metadata": {},
     "output_type": "execute_result"
    }
   ],
   "source": [
    " df[\"SaleCondition\"]. value_counts()"
   ]
  },
  {
   "cell_type": "markdown",
   "metadata": {},
   "source": [
    " #### As you can see above some variables were able to hide from our rare_encoder function. Below we will manually handle them"
   ]
  },
  {
   "cell_type": "code",
   "execution_count": 3116,
   "metadata": {},
   "outputs": [],
   "source": [
    "tmp = df['SaleCondition'].value_counts() / len(df)\r\n",
    "rare_labels = tmp[tmp < 0.02].index\r\n",
    "df['SaleCondition'] = np.where(df['SaleCondition'].isin(rare_labels), 'Rare', df['SaleCondition'])"
   ]
  },
  {
   "cell_type": "code",
   "execution_count": 3117,
   "metadata": {},
   "outputs": [
    {
     "data": {
      "text/plain": "Normal     2402\nPartial     245\nAbnorml     190\nRare         82\nName: SaleCondition, dtype: int64"
     },
     "execution_count": 3117,
     "metadata": {},
     "output_type": "execute_result"
    }
   ],
   "source": [
    " df[\"SaleCondition\"]. value_counts()"
   ]
  },
  {
   "cell_type": "markdown",
   "metadata": {},
   "source": [
    "#### With this variable feature engineering is over"
   ]
  },
  {
   "cell_type": "markdown",
   "metadata": {},
   "source": [
    "## Outliers"
   ]
  },
  {
   "cell_type": "code",
   "execution_count": 3118,
   "metadata": {},
   "outputs": [],
   "source": [
    "def outlier_thresholds(dataframe, col_name):\r\n",
    "    quartile1 = dataframe[col_name].quantile(0.01)\r\n",
    "    quartile3 = dataframe[col_name].quantile(0.99)\r\n",
    "    interquantile_range = quartile3 - quartile1\r\n",
    "    up_limit = quartile3 + 1.5 * interquantile_range\r\n",
    "    low_limit = quartile1 - 1.5 * interquantile_range\r\n",
    "    return low_limit, up_limit\r\n",
    "\r\n",
    "\r\n",
    "def replace_with_thresholds(dataframe, col_name):\r\n",
    "    low_limit, up_limit = outlier_thresholds(dataframe, col_name)\r\n",
    "    if low_limit > 0:\r\n",
    "        dataframe.loc[(dataframe[col_name] < low_limit), col_name] = low_limit\r\n",
    "        dataframe.loc[(dataframe[col_name] > up_limit), col_name] = up_limit\r\n",
    "    else:\r\n",
    "        dataframe.loc[(dataframe[col_name] > up_limit), col_name] = up_limit"
   ]
  },
  {
   "cell_type": "markdown",
   "metadata": {},
   "source": [
    "#### We will use the functions above to handle outliers. In order not to break the data structure we will pressure only the extremly high values"
   ]
  },
  {
   "cell_type": "code",
   "execution_count": 3119,
   "metadata": {},
   "outputs": [],
   "source": [
    "num_cols = [col for col in df.columns if df[col].dtypes != \"O\"]\r\n",
    "replace_with_thresholds(df, \"SalePrice\")"
   ]
  },
  {
   "cell_type": "markdown",
   "metadata": {},
   "source": [
    "## One-Hot Encoding"
   ]
  },
  {
   "cell_type": "code",
   "execution_count": 3120,
   "metadata": {},
   "outputs": [
    {
     "data": {
      "text/plain": "object     26\nint64      19\nfloat64     9\nint32       1\nName: 0, dtype: int64"
     },
     "execution_count": 3120,
     "metadata": {},
     "output_type": "execute_result"
    }
   ],
   "source": [
    "pd.DataFrame(df.dtypes)[0].value_counts()\r\n"
   ]
  },
  {
   "cell_type": "markdown",
   "metadata": {},
   "source": [
    "#### As you can see above there are 27 variables that we are going to perform one-hot encoding. We will use the following function to perform one-hot transformation"
   ]
  },
  {
   "cell_type": "code",
   "execution_count": 3121,
   "metadata": {},
   "outputs": [],
   "source": [
    "def one_hot_encoder(dataframe, drop_first=True):\r\n",
    "    cat_cols = [col for col in df.columns if df[col].dtypes == \"O\"]\r\n",
    "    dataframe = pd.get_dummies(dataframe, columns=cat_cols, drop_first=drop_first)\r\n",
    "    return dataframe"
   ]
  },
  {
   "cell_type": "code",
   "execution_count": 3122,
   "metadata": {},
   "outputs": [],
   "source": [
    "cat_cols = [col for col in df.columns if df[col].dtypes == \"O\"]\r\n",
    "df = one_hot_encoder(df, drop_first=True)"
   ]
  },
  {
   "cell_type": "code",
   "execution_count": 3123,
   "metadata": {},
   "outputs": [
    {
     "data": {
      "text/plain": "uint8      138\nint64       19\nfloat64      9\nint32        1\nName: 0, dtype: int64"
     },
     "execution_count": 3123,
     "metadata": {},
     "output_type": "execute_result"
    }
   ],
   "source": [
    "pd.DataFrame(df.dtypes)[0].value_counts()"
   ]
  },
  {
   "cell_type": "markdown",
   "metadata": {},
   "source": [
    "#### As you can see above all of our variables are numerical. It seems like we are ready to move on. At this point we better save our data to somewhere."
   ]
  },
  {
   "cell_type": "code",
   "execution_count": 3126,
   "metadata": {},
   "outputs": [],
   "source": [
    "df.to_csv(r\"ready_data.csv\", index = False)"
   ]
  },
  {
   "cell_type": "markdown",
   "metadata": {},
   "source": [
    "## PREDICTION"
   ]
  },
  {
   "cell_type": "markdown",
   "metadata": {},
   "source": [
    "### Imports"
   ]
  },
  {
   "cell_type": "code",
   "execution_count": 3168,
   "metadata": {},
   "outputs": [],
   "source": [
    "from sklearn.model_selection import train_test_split, GridSearchCV,cross_val_score\r\n",
    "from sklearn.metrics import mean_squared_error, r2_score\r\n",
    "import matplotlib.pyplot as plt\r\n",
    "from sklearn.preprocessing import scale\r\n",
    "from sklearn import preprocessing\r\n",
    "from sklearn.preprocessing import StandardScaler\r\n",
    "from warnings import filterwarnings\r\n",
    "filterwarnings('ignore')\r\n",
    "from sklearn.neural_network import MLPRegressor\r\n",
    "from sklearn.ensemble import RandomForestRegressor\r\n",
    "from lightgbm import LGBMRegressor"
   ]
  },
  {
   "cell_type": "code",
   "execution_count": 3129,
   "metadata": {},
   "outputs": [],
   "source": [
    "data = pd.read_csv('ready_data.csv')\r\n",
    "train = data[data.notnull().all(axis = 1)]\r\n",
    "test = data[data.isnull().any(axis = 1)]\r\n",
    "test.drop([\"SalePrice\"], axis = 1, inplace = True)"
   ]
  },
  {
   "cell_type": "markdown",
   "metadata": {},
   "source": [
    "#### Above we seperated the data into train and test sets. Below we seperated the train set into train and test set again to measure our prediction error."
   ]
  },
  {
   "cell_type": "code",
   "execution_count": 3132,
   "metadata": {},
   "outputs": [],
   "source": [
    "df = train.copy()\r\n",
    "y = df[\"SalePrice\"]\r\n",
    "X = df.drop(['SalePrice'], axis=1)\r\n",
    "X_train, X_test, y_train, y_test = train_test_split(X, y, test_size=0.3, random_state=4)\r\n",
    "scaler = StandardScaler()\r\n",
    "scaler.fit(X_train)\r\n",
    "scaler.fit(X_test)\r\n",
    "X_train = scaler.transform(X_train)\r\n",
    "X_test = scaler.transform(X_test)\r\n",
    "X_test = scaler.transform(X_test)"
   ]
  },
  {
   "cell_type": "markdown",
   "metadata": {},
   "source": [
    "### Neural Networks"
   ]
  },
  {
   "cell_type": "code",
   "execution_count": 3134,
   "metadata": {},
   "outputs": [],
   "source": [
    "mlp_model = MLPRegressor(hidden_layer_sizes = (100,20)).fit(X_train, y_train)"
   ]
  },
  {
   "cell_type": "code",
   "execution_count": 3135,
   "metadata": {},
   "outputs": [
    {
     "data": {
      "text/plain": "87453.04264720624"
     },
     "execution_count": 3135,
     "metadata": {},
     "output_type": "execute_result"
    }
   ],
   "source": [
    "y_pred = mlp_model.predict(X_test)\r\n",
    "np.sqrt(mean_squared_error(y_test, y_pred))"
   ]
  },
  {
   "cell_type": "markdown",
   "metadata": {},
   "source": [
    "#### Above we made prediction and calculated our RMSE. Lets try to decrase it tuning the hiper parameters"
   ]
  },
  {
   "cell_type": "code",
   "execution_count": 3136,
   "metadata": {},
   "outputs": [],
   "source": [
    "mlp_params = {'alpha': [0.1, 0.01,0.005],\r\n",
    "             'hidden_layer_sizes': [(100,150),(500,150),(300,500,200),(500,800,250)],\r\n",
    "             'activation': ['relu','logistic']}"
   ]
  },
  {
   "cell_type": "code",
   "execution_count": 3137,
   "metadata": {},
   "outputs": [
    {
     "name": "stdout",
     "output_type": "stream",
     "text": [
      "Fitting 5 folds for each of 24 candidates, totalling 120 fits\n"
     ]
    },
    {
     "name": "stderr",
     "output_type": "stream",
     "text": [
      "[Parallel(n_jobs=-1)]: Using backend LokyBackend with 8 concurrent workers.\n",
      "[Parallel(n_jobs=-1)]: Done  25 tasks      | elapsed:  4.3min\n",
      "[Parallel(n_jobs=-1)]: Done 120 out of 120 | elapsed: 26.6min finished\n"
     ]
    },
    {
     "data": {
      "text/plain": "GridSearchCV(estimator=MLPRegressor(hidden_layer_sizes=(100, 20)), n_jobs=-1,\n             param_grid={'activation': ['relu', 'logistic'],\n                         'alpha': [0.1, 0.01, 0.005],\n                         'hidden_layer_sizes': [(100, 150), (500, 150),\n                                                (300, 500, 200),\n                                                (500, 800, 250)]},\n             verbose=2)"
     },
     "execution_count": 3137,
     "metadata": {},
     "output_type": "execute_result"
    }
   ],
   "source": [
    "mlp_cv_model = GridSearchCV(mlp_model, mlp_params, n_jobs = -1, verbose = 2)\r\n",
    "mlp_cv_model.fit(X_train, y_train)"
   ]
  },
  {
   "cell_type": "code",
   "execution_count": 3138,
   "metadata": {},
   "outputs": [
    {
     "data": {
      "text/plain": "{'activation': 'relu', 'alpha': 0.005, 'hidden_layer_sizes': (300, 500, 200)}"
     },
     "execution_count": 3138,
     "metadata": {},
     "output_type": "execute_result"
    }
   ],
   "source": [
    "mlp_cv_model.best_params_"
   ]
  },
  {
   "cell_type": "code",
   "execution_count": 3141,
   "metadata": {},
   "outputs": [
    {
     "data": {
      "text/plain": "MLPRegressor(alpha=0.02, hidden_layer_sizes=(500, 300, 350))"
     },
     "execution_count": 3141,
     "metadata": {},
     "output_type": "execute_result"
    }
   ],
   "source": [
    "mlp_tuned = MLPRegressor(alpha = 0.02, hidden_layer_sizes = (500, 300, 350))\r\n",
    "mlp_tuned.fit(X_train, y_train)"
   ]
  },
  {
   "cell_type": "markdown",
   "metadata": {},
   "source": [
    "#### Above we updated our hiper parameters according to the return of our grid search method and below we fit the model with these new values"
   ]
  },
  {
   "cell_type": "code",
   "execution_count": 3142,
   "metadata": {},
   "outputs": [
    {
     "data": {
      "text/plain": "28767.508804727357"
     },
     "execution_count": 3142,
     "metadata": {},
     "output_type": "execute_result"
    }
   ],
   "source": [
    "y_pred = mlp_tuned.predict(X_test)\r\n",
    "np.sqrt(mean_squared_error(y_test, y_pred))"
   ]
  },
  {
   "cell_type": "markdown",
   "metadata": {},
   "source": [
    "#### As you can see above our RMSE is less than our base modal."
   ]
  },
  {
   "cell_type": "markdown",
   "metadata": {},
   "source": [
    "### Random Forest"
   ]
  },
  {
   "cell_type": "code",
   "execution_count": 3144,
   "metadata": {},
   "outputs": [
    {
     "data": {
      "text/plain": "RandomForestRegressor(random_state=4)"
     },
     "execution_count": 3144,
     "metadata": {},
     "output_type": "execute_result"
    }
   ],
   "source": [
    "rf_model = RandomForestRegressor(random_state = 4)\r\n",
    "rf_model.fit(X_train, y_train)"
   ]
  },
  {
   "cell_type": "code",
   "execution_count": 3149,
   "metadata": {},
   "outputs": [
    {
     "data": {
      "text/plain": "23949.064942977748"
     },
     "execution_count": 3149,
     "metadata": {},
     "output_type": "execute_result"
    }
   ],
   "source": [
    "y_pred = rf_model.predict(X_test)\r\n",
    "np.sqrt(mean_squared_error(y_test, y_pred))"
   ]
  },
  {
   "cell_type": "markdown",
   "metadata": {},
   "source": [
    "#### Above we made prediction and calculated our RMSE. Lets try to decrase it tuning the hiper parameters"
   ]
  },
  {
   "cell_type": "code",
   "execution_count": 3150,
   "metadata": {},
   "outputs": [],
   "source": [
    "rf_params = {'max_depth': [10,20,30,40],\r\n",
    "            'max_features': [10,20,30,40],\r\n",
    "            'n_estimators' : [200, 500, 1000, 1500]}"
   ]
  },
  {
   "cell_type": "code",
   "execution_count": 3155,
   "metadata": {},
   "outputs": [
    {
     "name": "stdout",
     "output_type": "stream",
     "text": [
      "Fitting 5 folds for each of 64 candidates, totalling 320 fits\n"
     ]
    },
    {
     "name": "stderr",
     "output_type": "stream",
     "text": [
      "[Parallel(n_jobs=-1)]: Using backend LokyBackend with 8 concurrent workers.\n",
      "[Parallel(n_jobs=-1)]: Done  25 tasks      | elapsed:   17.3s\n",
      "[Parallel(n_jobs=-1)]: Done 146 tasks      | elapsed:  2.6min\n",
      "[Parallel(n_jobs=-1)]: Done 320 out of 320 | elapsed:  6.5min finished\n"
     ]
    },
    {
     "data": {
      "text/plain": "GridSearchCV(cv=5, estimator=RandomForestRegressor(random_state=4), n_jobs=-1,\n             param_grid={'max_depth': [10, 20, 30, 40],\n                         'max_features': [10, 20, 30, 40],\n                         'n_estimators': [200, 500, 1000, 1500]},\n             verbose=2)"
     },
     "execution_count": 3155,
     "metadata": {},
     "output_type": "execute_result"
    }
   ],
   "source": [
    "rf_model = RandomForestRegressor(random_state = 4)\r\n",
    "rf_cv_model = GridSearchCV(rf_model, \r\n",
    "                           rf_params, \r\n",
    "                           cv = 5, \r\n",
    "                            n_jobs = -1,\r\n",
    "                            verbose = 2)\r\n",
    "rf_cv_model.fit(X_train, y_train)"
   ]
  },
  {
   "cell_type": "code",
   "execution_count": 3156,
   "metadata": {},
   "outputs": [
    {
     "data": {
      "text/plain": "{'max_depth': 30, 'max_features': 20, 'n_estimators': 1500}"
     },
     "execution_count": 3156,
     "metadata": {},
     "output_type": "execute_result"
    }
   ],
   "source": [
    "rf_cv_model.best_params_"
   ]
  },
  {
   "cell_type": "code",
   "execution_count": 3165,
   "metadata": {},
   "outputs": [
    {
     "data": {
      "text/plain": "RandomForestRegressor(max_depth=30, max_features=20, n_estimators=1000)"
     },
     "execution_count": 3165,
     "metadata": {},
     "output_type": "execute_result"
    }
   ],
   "source": [
    "rf_tuned = RandomForestRegressor(max_depth  = 30, \r\n",
    "                                 max_features = 20, \r\n",
    "                                 n_estimators =1000)\r\n",
    "rf_tuned.fit(X_train, y_train)"
   ]
  },
  {
   "cell_type": "code",
   "execution_count": 3166,
   "metadata": {},
   "outputs": [
    {
     "data": {
      "text/plain": "23940.914486159912"
     },
     "execution_count": 3166,
     "metadata": {},
     "output_type": "execute_result"
    }
   ],
   "source": [
    "y_pred = rf_tuned.predict(X_test)\r\n",
    "np.sqrt(mean_squared_error(y_test, y_pred))"
   ]
  },
  {
   "cell_type": "markdown",
   "metadata": {},
   "source": [
    "#### As you can see above our RMSE is just a little bit less than our base modal. Now lets take look at feature importances according to our Random Forest modal"
   ]
  },
  {
   "cell_type": "code",
   "execution_count": 3167,
   "metadata": {},
   "outputs": [
    {
     "data": {
      "text/plain": "Text(0.5, 0, 'Feature Importances')"
     },
     "execution_count": 3167,
     "metadata": {},
     "output_type": "execute_result"
    },
    {
     "data": {
      "image/png": "[encoded data removed]",
      "text/plain": "<Figure size 432x288 with 1 Axes>"
     },
     "metadata": {
      "needs_background": "light"
     },
     "output_type": "display_data"
    }
   ],
   "source": [
    "Importance = pd.DataFrame({\"Importance\": rf_tuned.feature_importances_*100},\r\n",
    "                         index = X.columns)\r\n",
    "imp = Importance.sort_values(by = \"Importance\", \r\n",
    "                       axis = 0, \r\n",
    "                       ascending = True)\r\n",
    "imp.tail(20).plot(kind =\"barh\", color = \"r\")\r\n",
    "\r\n",
    "plt.xlabel(\"Feature Importances\")"
   ]
  },
  {
   "cell_type": "markdown",
   "metadata": {},
   "source": [
    "### Light GBM"
   ]
  },
  {
   "cell_type": "markdown",
   "metadata": {},
   "source": [
    "#### Below we fit the Light GBM modal and than calculated the base modals accuracy"
   ]
  },
  {
   "cell_type": "code",
   "execution_count": 3169,
   "metadata": {},
   "outputs": [],
   "source": [
    "lgbm = LGBMRegressor()\r\n",
    "lgbm_model = lgbm.fit(X_train, y_train)"
   ]
  },
  {
   "cell_type": "code",
   "execution_count": 3170,
   "metadata": {},
   "outputs": [
    {
     "data": {
      "text/plain": "23099.23614208229"
     },
     "execution_count": 3170,
     "metadata": {},
     "output_type": "execute_result"
    }
   ],
   "source": [
    "y_pred = lgbm_model.predict(X_test, \r\n",
    "                            num_iteration = lgbm_model.best_iteration_)\r\n",
    "np.sqrt(mean_squared_error(y_test, y_pred))"
   ]
  },
  {
   "cell_type": "markdown",
   "metadata": {},
   "source": [
    "#### Lets try to decrease our RMSE as we did earlier with other modals"
   ]
  },
  {
   "cell_type": "code",
   "execution_count": 3184,
   "metadata": {},
   "outputs": [],
   "source": [
    "lgbm_grid = {\r\n",
    "    'colsample_bytree': [ 0.4,0.6,0.8],\r\n",
    "    'learning_rate': [0.01, 0.005],\r\n",
    "    'n_estimators': [ 500,1000, 2000],\r\n",
    "    'max_depth': [4,8,12,20] }\r\n",
    "\r\n",
    "lgbm = LGBMRegressor()\r\n",
    "lgbm_cv_model = GridSearchCV(lgbm, lgbm_grid, cv=5, n_jobs = -1, verbose = 2)"
   ]
  },
  {
   "cell_type": "code",
   "execution_count": 3185,
   "metadata": {},
   "outputs": [
    {
     "name": "stdout",
     "output_type": "stream",
     "text": [
      "Fitting 5 folds for each of 72 candidates, totalling 360 fits\n"
     ]
    },
    {
     "name": "stderr",
     "output_type": "stream",
     "text": [
      "[Parallel(n_jobs=-1)]: Using backend LokyBackend with 8 concurrent workers.\n",
      "[Parallel(n_jobs=-1)]: Done  25 tasks      | elapsed:    4.4s\n",
      "[Parallel(n_jobs=-1)]: Done 146 tasks      | elapsed:   58.4s\n",
      "[Parallel(n_jobs=-1)]: Done 360 out of 360 | elapsed:  2.7min finished\n"
     ]
    },
    {
     "name": "stdout",
     "output_type": "stream",
     "text": [
      "[LightGBM] [Warning] Accuracy may be bad since you didn't explicitly set num_leaves OR 2^max_depth > num_leaves. (num_leaves=31).\n"
     ]
    },
    {
     "data": {
      "text/plain": "GridSearchCV(cv=5, estimator=LGBMRegressor(), n_jobs=-1,\n             param_grid={'colsample_bytree': [0.4, 0.6, 0.8],\n                         'learning_rate': [0.01, 0.005],\n                         'max_depth': [4, 8, 12, 20],\n                         'n_estimators': [500, 1000, 2000]},\n             verbose=2)"
     },
     "execution_count": 3185,
     "metadata": {},
     "output_type": "execute_result"
    }
   ],
   "source": [
    "lgbm_cv_model.fit(X_train, y_train)"
   ]
  },
  {
   "cell_type": "code",
   "execution_count": 3186,
   "metadata": {},
   "outputs": [
    {
     "data": {
      "text/plain": "{'colsample_bytree': 0.4,\n 'learning_rate': 0.005,\n 'max_depth': 12,\n 'n_estimators': 1000}"
     },
     "execution_count": 3186,
     "metadata": {},
     "output_type": "execute_result"
    }
   ],
   "source": [
    "lgbm_cv_model.best_params_"
   ]
  },
  {
   "cell_type": "markdown",
   "metadata": {},
   "source": [
    "#### Above is the best hiper parameter combination return from grid search method. We configure our modal below wtih these parameters"
   ]
  },
  {
   "cell_type": "code",
   "execution_count": 3187,
   "metadata": {},
   "outputs": [],
   "source": [
    "lgbm_tuned = LGBMRegressor(learning_rate = 0.005, \r\n",
    "                           max_depth = 12, \r\n",
    "                           n_estimators = 1000,\r\n",
    "                          colsample_bytree = 0.4)\r\n",
    "\r\n",
    "lgbm_tuned = lgbm_tuned.fit(X_train,y_train)"
   ]
  },
  {
   "cell_type": "code",
   "execution_count": 3188,
   "metadata": {},
   "outputs": [
    {
     "data": {
      "text/plain": "21810.868731058228"
     },
     "execution_count": 3188,
     "metadata": {},
     "output_type": "execute_result"
    }
   ],
   "source": [
    "y_pred = lgbm_tuned.predict(X_test)\r\n",
    "np.sqrt(mean_squared_error(y_test, y_pred))"
   ]
  },
  {
   "cell_type": "markdown",
   "metadata": {},
   "source": [
    "#### As you can see modal tuning seems to be worked out. This is our least RMSE "
   ]
  },
  {
   "cell_type": "markdown",
   "metadata": {},
   "source": [
    "### Comparing the Modals"
   ]
  },
  {
   "cell_type": "code",
   "execution_count": 3194,
   "metadata": {},
   "outputs": [
    {
     "name": "stdout",
     "output_type": "stream",
     "text": [
      "----------------------------\n",
      "MLPRegressor:\n",
      "RMSE: 28767.51\n",
      "----------------------------\n",
      "RandomForestRegressor:\n",
      "RMSE: 23940.91\n",
      "----------------------------\n",
      "LGBMRegressor:\n",
      "RMSE: 21810.87\n"
     ]
    }
   ],
   "source": [
    "modals = [mlp_tuned, rf_tuned, lgbm_tuned]\r\n",
    "for m in modals:\r\n",
    "    names = m.__class__.__name__\r\n",
    "    y_pred = m.predict(X_test)\r\n",
    "    RMSE = round(np.sqrt(mean_squared_error(y_test, y_pred)),2)\r\n",
    "    print(\"-\"*28)\r\n",
    "    print(names + \":\" )\r\n",
    "    print(\"RMSE:\", RMSE)"
   ]
  },
  {
   "cell_type": "markdown",
   "metadata": {},
   "source": [
    "## Submission"
   ]
  },
  {
   "cell_type": "markdown",
   "metadata": {},
   "source": [
    "#### Now we will use LGBM Model to predict the real test set"
   ]
  },
  {
   "cell_type": "code",
   "execution_count": 3196,
   "metadata": {},
   "outputs": [],
   "source": [
    "y = train[\"SalePrice\"]\r\n",
    "X = train.drop(['SalePrice'], axis=1)"
   ]
  },
  {
   "cell_type": "code",
   "execution_count": 3197,
   "metadata": {},
   "outputs": [
    {
     "name": "stdout",
     "output_type": "stream",
     "text": [
      "[LightGBM] [Warning] Accuracy may be bad since you didn't explicitly set num_leaves OR 2^max_depth > num_leaves. (num_leaves=31).\n"
     ]
    },
    {
     "data": {
      "text/plain": "LGBMRegressor(colsample_bytree=0.4, learning_rate=0.005, max_depth=12,\n              n_estimators=1000)"
     },
     "execution_count": 3197,
     "metadata": {},
     "output_type": "execute_result"
    }
   ],
   "source": [
    "lgbm_tuned.fit(X, y)"
   ]
  },
  {
   "cell_type": "code",
   "execution_count": 3218,
   "metadata": {},
   "outputs": [],
   "source": [
    "y_pred = lgbm_tuned.predict(test)\r\n",
    "y_pred= pd.DataFrame(y_pred)"
   ]
  },
  {
   "cell_type": "markdown",
   "metadata": {},
   "source": [
    "### Below is our predictions. Now we will add the MiscVal values that we dropped earlier"
   ]
  },
  {
   "cell_type": "code",
   "execution_count": 3213,
   "metadata": {},
   "outputs": [
    {
     "data": {
      "text/html": "<div>\n<style scoped>\n    .dataframe tbody tr th:only-of-type {\n        vertical-align: middle;\n    }\n\n    .dataframe tbody tr th {\n        vertical-align: top;\n    }\n\n    .dataframe thead th {\n        text-align: right;\n    }\n</style>\n<table border=\"1\" class=\"dataframe\">\n  <thead>\n    <tr style=\"text-align: right;\">\n      <th></th>\n      <th>0</th>\n    </tr>\n  </thead>\n  <tbody>\n    <tr>\n      <th>0</th>\n      <td>124554.873054</td>\n    </tr>\n    <tr>\n      <th>1</th>\n      <td>174186.402709</td>\n    </tr>\n    <tr>\n      <th>2</th>\n      <td>184462.485802</td>\n    </tr>\n    <tr>\n      <th>3</th>\n      <td>190561.032037</td>\n    </tr>\n    <tr>\n      <th>4</th>\n      <td>190285.156197</td>\n    </tr>\n  </tbody>\n</table>\n</div>",
      "text/plain": "               0\n0  124554.873054\n1  174186.402709\n2  184462.485802\n3  190561.032037\n4  190285.156197"
     },
     "execution_count": 3213,
     "metadata": {},
     "output_type": "execute_result"
    }
   ],
   "source": [
    "y_pred.head()"
   ]
  },
  {
   "cell_type": "code",
   "execution_count": 3212,
   "metadata": {},
   "outputs": [],
   "source": [
    "orj_test = pd.read_csv('test.csv')\r\n",
    "y_pred[0] = orj_test[\"MiscVal\"] + y_pred[0]"
   ]
  },
  {
   "cell_type": "markdown",
   "metadata": {},
   "source": [
    "#### Abowe added the Miscval values to our predictions. Now we are ready for submission"
   ]
  },
  {
   "cell_type": "code",
   "execution_count": 3214,
   "metadata": {},
   "outputs": [],
   "source": [
    "sample_submission = pd.read_csv('sample_submission.csv')"
   ]
  },
  {
   "cell_type": "code",
   "execution_count": 3219,
   "metadata": {},
   "outputs": [],
   "source": [
    "sample_submission[\"SalePrice\"] = y_pred[0]"
   ]
  },
  {
   "cell_type": "code",
   "execution_count": 3220,
   "metadata": {},
   "outputs": [
    {
     "data": {
      "text/html": "<div>\n<style scoped>\n    .dataframe tbody tr th:only-of-type {\n        vertical-align: middle;\n    }\n\n    .dataframe tbody tr th {\n        vertical-align: top;\n    }\n\n    .dataframe thead th {\n        text-align: right;\n    }\n</style>\n<table border=\"1\" class=\"dataframe\">\n  <thead>\n    <tr style=\"text-align: right;\">\n      <th></th>\n      <th>Id</th>\n      <th>SalePrice</th>\n    </tr>\n  </thead>\n  <tbody>\n    <tr>\n      <th>0</th>\n      <td>1461</td>\n      <td>124554.873054</td>\n    </tr>\n    <tr>\n      <th>1</th>\n      <td>1462</td>\n      <td>161686.402709</td>\n    </tr>\n    <tr>\n      <th>2</th>\n      <td>1463</td>\n      <td>184462.485802</td>\n    </tr>\n    <tr>\n      <th>3</th>\n      <td>1464</td>\n      <td>190561.032037</td>\n    </tr>\n    <tr>\n      <th>4</th>\n      <td>1465</td>\n      <td>190285.156197</td>\n    </tr>\n  </tbody>\n</table>\n</div>",
      "text/plain": "     Id      SalePrice\n0  1461  124554.873054\n1  1462  161686.402709\n2  1463  184462.485802\n3  1464  190561.032037\n4  1465  190285.156197"
     },
     "execution_count": 3220,
     "metadata": {},
     "output_type": "execute_result"
    }
   ],
   "source": [
    "sample_submission.head()"
   ]
  },
  {
   "cell_type": "code",
   "execution_count": 3221,
   "metadata": {},
   "outputs": [],
   "source": [
    "sample_submission.to_csv(r\"submission1.csv\", index = False)"
   ]
  },
  {
   "cell_type": "code",
   "execution_count": null,
   "metadata": {},
   "outputs": [],
   "source": []
  },
  {
   "cell_type": "code",
   "execution_count": null,
   "metadata": {},
   "outputs": [],
   "source": []
  }
 ],
 "metadata": {
  "kernelspec": {
   "display_name": "Python 3",
   "language": "python",
   "name": "python3"
  },
  "language_info": {
   "codemirror_mode": {
    "name": "ipython",
    "version": 3
   },
   "file_extension": ".py",
   "mimetype": "text/x-python",
   "name": "python",
   "nbconvert_exporter": "python",
   "pygments_lexer": "ipython3",
   "version": "3.8.5"
  }
 },
 "nbformat": 4,
 "nbformat_minor": 4
}